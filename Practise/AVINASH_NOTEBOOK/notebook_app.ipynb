{
 "metadata": {
  "kernelspec": {
   "display_name": "Streamlit Notebook",
   "name": "streamlit"
  }
 },
 "nbformat_minor": 5,
 "nbformat": 4,
 "cells": [
  {
   "cell_type": "code",
   "id": "78ff114f-0850-4f67-b1f5-ee536ea34d00",
   "metadata": {
    "language": "python",
    "name": "cell1",
    "collapsed": false
   },
   "outputs": [],
   "source": "\n# most of the imports we will need\nimport json\n\nimport snowflake.snowpark.functions as F\nimport snowflake.snowpark.types as T\nfrom snowflake.snowpark.functions import udf\nfrom snowflake.snowpark.session import Session",
   "execution_count": null
  },
  {
   "cell_type": "code",
   "id": "2464a259-0014-43f8-92c6-d04f34e6e4bb",
   "metadata": {
    "language": "python",
    "name": "cell2",
    "collapsed": false
   },
   "outputs": [],
   "source": "from snowflake.snowpark.context import get_active_session\nsession = get_active_session()",
   "execution_count": null
  },
  {
   "cell_type": "code",
   "id": "c587c976-bac4-490f-9c2e-1c17ff39d255",
   "metadata": {
    "language": "python",
    "name": "cell3"
   },
   "outputs": [],
   "source": "# initialize environment: \n\n# create database & make it active in this session (\"use\" it)\nsession.sql('CREATE OR REPLACE DATABASE HOL_DB').collect()\nsession.use_database('HOL_DB')\n\n# create a stage pointing at the S3 bucket with the sample data\nsession.sql(''' CREATE OR REPLACE STAGE FROSTBYTE_RAW_STAGE\n                URL = 's3://sfquickstarts/data-engineering-with-snowpark-python/'\n                ;''').collect()\n\n# create a medium size warehouse\nsession.sql('CREATE OR REPLACE WAREHOUSE HOL_WH WAREHOUSE_SIZE = MEDIUM, AUTO_SUSPEND = 300, AUTO_RESUME= TRUE;').collect()",
   "execution_count": null
  }
 ]
}