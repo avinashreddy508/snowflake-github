{
 "metadata": {
  "kernelspec": {
   "display_name": "Streamlit Notebook",
   "name": "streamlit"
  }
 },
 "nbformat_minor": 5,
 "nbformat": 4,
 "cells": [
  {
   "cell_type": "code",
   "id": "b411bfcb-6c03-43d6-8745-c12b1989ef12",
   "metadata": {
    "language": "sql",
    "name": "cell1",
    "collapsed": false,
    "codeCollapsed": true
   },
   "outputs": [],
   "source": "select * from demo_db.public.customer_support_ticket\n",
   "execution_count": null
  },
  {
   "cell_type": "code",
   "id": "f05a5713-e004-4968-ab26-7286ac881081",
   "metadata": {
    "language": "python",
    "name": "cell2"
   },
   "outputs": [],
   "source": "",
   "execution_count": null
  }
 ]
}